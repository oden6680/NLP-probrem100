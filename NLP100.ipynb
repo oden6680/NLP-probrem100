{
  "nbformat": 4,
  "nbformat_minor": 0,
  "metadata": {
    "colab": {
      "provenance": [],
      "authorship_tag": "ABX9TyPuBpaupaf5bJHoXaGZbjQR",
      "include_colab_link": true
    },
    "kernelspec": {
      "name": "python3",
      "display_name": "Python 3"
    },
    "language_info": {
      "name": "python"
    }
  },
  "cells": [
    {
      "cell_type": "markdown",
      "metadata": {
        "id": "view-in-github",
        "colab_type": "text"
      },
      "source": [
        "<a href=\"https://colab.research.google.com/github/oden6680/NLP-probrem100/blob/main/NLP100.ipynb\" target=\"_parent\"><img src=\"https://colab.research.google.com/assets/colab-badge.svg\" alt=\"Open In Colab\"/></a>"
      ]
    },
    {
      "cell_type": "markdown",
      "source": [
        "# 自然言語処理100本ノック"
      ],
      "metadata": {
        "id": "usYm6inWpenw"
      }
    },
    {
      "cell_type": "markdown",
      "source": [
        "[自然言語処理100本ノック](https://nlp100.github.io/ja/)にある問題を解くプログラムを一括で管理する\n",
        "\n"
      ],
      "metadata": {
        "id": "D8v7rXkXqmkO"
      }
    },
    {
      "cell_type": "markdown",
      "source": [
        "## 第1章: 準備運動"
      ],
      "metadata": {
        "id": "eNRUS3hqpoOf"
      }
    },
    {
      "cell_type": "markdown",
      "source": [
        "### 00. 文字列の逆順\n",
        "文字列”stressed”の文字を逆に（末尾から先頭に向かって）並べた文字列を得よ"
      ],
      "metadata": {
        "id": "_Wl-RILlq_H4"
      }
    },
    {
      "cell_type": "code",
      "source": [
        "s = \"stressed\"\n",
        "print(s[::-1])\n",
        "#reversed()使ってもいいけどダサい"
      ],
      "metadata": {
        "colab": {
          "base_uri": "https://localhost:8080/"
        },
        "id": "5tLZLgqqrHMp",
        "outputId": "34794e36-ba32-46ed-a80c-66f5748fb8e5"
      },
      "execution_count": 27,
      "outputs": [
        {
          "output_type": "stream",
          "name": "stdout",
          "text": [
            "desserts\n"
          ]
        }
      ]
    },
    {
      "cell_type": "markdown",
      "source": [
        "### 01. 「パタトクカシーー」\n",
        "「パタトクカシーー」という文字列の1,3,5,7文字目を取り出して連結した文字列を得よ．"
      ],
      "metadata": {
        "id": "9pN6d_D8sVoY"
      }
    },
    {
      "cell_type": "code",
      "source": [
        "s = \"パタトクカシーー\"\n",
        "print(s[::2])"
      ],
      "metadata": {
        "colab": {
          "base_uri": "https://localhost:8080/"
        },
        "id": "K_XV3d6Jsg8b",
        "outputId": "ee65485e-c3cf-478c-82fd-7999e7fbaaba"
      },
      "execution_count": 28,
      "outputs": [
        {
          "output_type": "stream",
          "name": "stdout",
          "text": [
            "パトカー\n"
          ]
        }
      ]
    },
    {
      "cell_type": "markdown",
      "source": [
        "### 02. 「パトカー」＋「タクシー」＝「パタトクカシーー\n",
        "「パトカー」＋「タクシー」の文字を先頭から交互に連結して文字列「パタトクカシーー」を得よ．"
      ],
      "metadata": {
        "id": "PIOp1I-jvaoU"
      }
    },
    {
      "cell_type": "code",
      "source": [
        "str1 = \"パトカー\"\n",
        "str2 = \"タクシー\"\n",
        "print(\"\".join([char1 + char2 for char1, char2 in zip(str1,str2)]))"
      ],
      "metadata": {
        "colab": {
          "base_uri": "https://localhost:8080/"
        },
        "id": "SjRC8y2Tvitw",
        "outputId": "64f54e39-52cb-40f9-d33b-17d587e0c09e"
      },
      "execution_count": 8,
      "outputs": [
        {
          "output_type": "stream",
          "name": "stdout",
          "text": [
            "パタトクカシーー\n"
          ]
        }
      ]
    },
    {
      "cell_type": "markdown",
      "source": [
        "### 03. 円周率\n",
        "“Now I need a drink, alcoholic of course, after the heavy lectures involving quantum mechanics.”という文を単語に分解し，各単語の（アルファベットの）文字数を先頭から出現順に並べたリストを作成せよ．"
      ],
      "metadata": {
        "id": "GLeeeQn6xpxD"
      }
    },
    {
      "cell_type": "code",
      "source": [
        "s = \"Now I need a drink, alcoholic of course, after the heavy lectures involving quantum mechanics.\"\n",
        "s = s.replace(\",\",\"\").replace(\".\",\"\")\n",
        "print([len(word) for word in s.split()])"
      ],
      "metadata": {
        "colab": {
          "base_uri": "https://localhost:8080/"
        },
        "id": "DiIhqiB8yQBp",
        "outputId": "d4735405-ac68-4b95-d702-0e0e9a1eb078"
      },
      "execution_count": 29,
      "outputs": [
        {
          "output_type": "stream",
          "name": "stdout",
          "text": [
            "[3, 1, 4, 1, 5, 9, 2, 6, 5, 3, 5, 8, 9, 7, 9]\n"
          ]
        }
      ]
    },
    {
      "cell_type": "markdown",
      "source": [
        "### 04. 元素記号\n",
        "\n",
        "“Hi He Lied Because Boron Could Not Oxidize Fluorine. New Nations Might Also Sign Peace Security Clause. Arthur King Can.”という文を単語に分解し，1, 5, 6, 7, 8, 9, 15, 16, 19番目の単語は先頭の1文字，それ以外の単語は先頭の2文字を取り出し，取り出した文字列から単語の位置（先頭から何番目の単語か）への連想配列（辞書型もしくはマップ型）を作成せよ．"
      ],
      "metadata": {
        "id": "HKBnoUf7zW77"
      }
    },
    {
      "cell_type": "code",
      "source": [
        "s = \"Hi He Lied Because Boron Could Not Oxidize Fluorine. New Nations Might Also Sign Peace Security Clause. Arthur King Can.\"\n",
        "s = s.replace(\".\",\"\")\n",
        "index = [0,4,5,6,7,8,14,15,18]\n",
        "dic = {}\n",
        "for i,word in enumerate(s.split()):\n",
        "  if i in index:\n",
        "    temp = word[:1]\n",
        "  else:\n",
        "    temp = word[:2]\n",
        "  dic[temp] = i\n",
        "print(dic)"
      ],
      "metadata": {
        "colab": {
          "base_uri": "https://localhost:8080/"
        },
        "id": "Y_SIy66wzcOy",
        "outputId": "9e2a1b85-c03a-46ea-db7f-f0f683720c2e"
      },
      "execution_count": 31,
      "outputs": [
        {
          "output_type": "stream",
          "name": "stdout",
          "text": [
            "{'H': 0, 'He': 1, 'Li': 2, 'Be': 3, 'B': 4, 'C': 5, 'N': 6, 'O': 7, 'F': 8, 'Ne': 9, 'Na': 10, 'Mi': 11, 'Al': 12, 'Si': 13, 'P': 14, 'S': 15, 'Cl': 16, 'Ar': 17, 'K': 18, 'Ca': 19}\n"
          ]
        }
      ]
    },
    {
      "cell_type": "markdown",
      "source": [
        "### 05. n-gram\n",
        "与えられたシーケンス（文字列やリストなど）からn-gramを作る関数を作成せよ．この関数を用い，”I am an NLPer”という文から単語bi-gram，文字bi-gramを得よ．"
      ],
      "metadata": {
        "id": "7bpnf_q45Kbs"
      }
    },
    {
      "cell_type": "code",
      "source": [
        "def make_ngram(n,string):\n",
        "  n_gram = []\n",
        "  for i in range(n + len(string) - 3):\n",
        "    n_gram.append(string[i:i+n])\n",
        "  return n_gram\n",
        "\n",
        "s = \"I am an NLPer\"\n",
        "print(make_ngram(2,s.split()))\n",
        "print(make_ngram(2,s))"
      ],
      "metadata": {
        "colab": {
          "base_uri": "https://localhost:8080/"
        },
        "id": "EGuUxLW65UkN",
        "outputId": "85971957-fdac-4a41-dadc-66f9d27d3cc1"
      },
      "execution_count": 33,
      "outputs": [
        {
          "output_type": "stream",
          "name": "stdout",
          "text": [
            "[['I', 'am'], ['am', 'an'], ['an', 'NLPer']]\n",
            "['I ', ' a', 'am', 'm ', ' a', 'an', 'n ', ' N', 'NL', 'LP', 'Pe', 'er']\n"
          ]
        }
      ]
    },
    {
      "cell_type": "markdown",
      "source": [
        "### 06. 集合\n",
        "“paraparaparadise”と”paragraph”に含まれる文字bi-gramの集合を，それぞれ, XとYとして求め，XとYの和集合，積集合，差集合を求めよ．さらに，’se’というbi-gramがXおよびYに含まれるかどうかを調べよ．"
      ],
      "metadata": {
        "id": "gLeZ5Q9PChbP"
      }
    },
    {
      "cell_type": "code",
      "source": [
        "def make_ngram(n,string):\n",
        "  n_gram = []\n",
        "  for i in range(n + len(string) - 3):\n",
        "    n_gram.append(string[i:i+n])\n",
        "  return n_gram\n",
        "\n",
        "str1 = \"paraparaparadise\"\n",
        "str2 = \"paragraph\"\n",
        "\n",
        "X = set(make_ngram(2,str1))\n",
        "Y = set(make_ngram(2,str2))\n",
        "Z = \"se\"\n",
        "\n",
        "print(X|Y)\n",
        "print(X&Y)\n",
        "print(X-Y)\n",
        "print(\"\\\"se\\\" is in the X ?:\",Z in X)\n",
        "print(\"\\\"se\\\" is in the Y ?:\",Z in Y)"
      ],
      "metadata": {
        "colab": {
          "base_uri": "https://localhost:8080/"
        },
        "id": "jqCnZvWjCzkD",
        "outputId": "38d2e5e3-4532-4cf8-ed3a-e784727983c3"
      },
      "execution_count": 34,
      "outputs": [
        {
          "output_type": "stream",
          "name": "stdout",
          "text": [
            "{'pa', 'se', 'ph', 'ap', 'ra', 'ar', 'gr', 'ag', 'di', 'is', 'ad'}\n",
            "{'pa', 'ap', 'ra', 'ar'}\n",
            "{'di', 'ad', 'is', 'se'}\n",
            "\"se\" is in the X ?: True\n",
            "\"se\" is in the Y ?: False\n"
          ]
        }
      ]
    },
    {
      "cell_type": "markdown",
      "source": [
        "### 07. テンプレートによる文生成\n",
        "引数x, y, zを受け取り「x時のyはz」という文字列を返す関数を実装せよ．さらに，x=12, y=”気温”, z=22.4として，実行結果を確認せよ．"
      ],
      "metadata": {
        "id": "siSCUQT1ENBB"
      }
    },
    {
      "cell_type": "code",
      "source": [
        "def make_time_str(x,y,z):\n",
        "  return str(x)+\"時の\"+str(y)+\"は\"+str(z)\n",
        "\n",
        "print(make_time_str(12,\"気温\",22.4))"
      ],
      "metadata": {
        "colab": {
          "base_uri": "https://localhost:8080/"
        },
        "id": "9gOmuSb-Ee4f",
        "outputId": "722085ac-5f3b-4108-bf51-a6a89475cf56"
      },
      "execution_count": 1,
      "outputs": [
        {
          "output_type": "stream",
          "name": "stdout",
          "text": [
            "12時の気温は22.4\n"
          ]
        }
      ]
    },
    {
      "cell_type": "markdown",
      "source": [
        "### 08. 暗号文\n",
        "与えられた文字列の各文字を，以下の仕様で変換する関数cipherを実装せよ．\n",
        "- 英小文字ならば(219 - 文字コード)の文字に置換\n",
        "- その他の文字はそのまま出力\n",
        "\n",
        "この関数を用い，英語のメッセージを暗号化・復号化せよ．"
      ],
      "metadata": {
        "id": "Fn9k_9APG5g9"
      }
    },
    {
      "cell_type": "code",
      "source": [
        "def cipher(string):\n",
        "  result = []\n",
        "  for s in string:\n",
        "    if 97 <= ord(s) <= 122:\n",
        "      s = chr(219-ord(s))\n",
        "    result.append(s)\n",
        "  return \"\".join(result)\n",
        "\n",
        "msg = \"I couldn’t believe that I could actually understand what I was reading : the phenomenal power of the human mind .\"\n",
        "cryp_msg = cipher(msg)\n",
        "rest_msg = cipher(cryp_msg)\n",
        "\n",
        "print(f\"msg is \\\"{msg}\\\"\")\n",
        "print(f\"encrypted msg is \\\"{cryp_msg}\\\"\")\n",
        "print(f\"restored msg is \\\"{rest_msg}\\\"\")"
      ],
      "metadata": {
        "colab": {
          "base_uri": "https://localhost:8080/"
        },
        "id": "dXqvmWO3HF7W",
        "outputId": "699935c3-8fe3-4fda-f78d-d72ebf3cae0f"
      },
      "execution_count": 5,
      "outputs": [
        {
          "output_type": "stream",
          "name": "stdout",
          "text": [
            "msg is \"I couldn’t believe that I could actually understand what I was reading : the phenomenal power of the human mind .\"\n",
            "encrypted msg is \"I xlfowm’g yvorvev gszg I xlfow zxgfzoob fmwvihgzmw dszg I dzh ivzwrmt : gsv ksvmlnvmzo kldvi lu gsv sfnzm nrmw .\"\n",
            "restored msg is \"I couldn’t believe that I could actually understand what I was reading : the phenomenal power of the human mind .\"\n"
          ]
        }
      ]
    },
    {
      "cell_type": "markdown",
      "source": [
        "### 09. Typoglycemia\n",
        "スペースで区切られた単語列に対して，各単語の先頭と末尾の文字は残し，それ以外の文字の順序をランダムに並び替えるプログラムを作成せよ．ただし，長さが４以下の単語は並び替えないこととする．適当な英語の文（例えば”I couldn’t believe that I could actually understand what I was reading : the phenomenal power of the human mind .”）を与え，その実行結果を確認せよ．"
      ],
      "metadata": {
        "id": "3uY5Og4kKe3e"
      }
    },
    {
      "cell_type": "code",
      "source": [
        "import random\n",
        "def make_typoglycemia(string):\n",
        "  result = []\n",
        "  for word in string.split():\n",
        "    if len(word) > 4:\n",
        "      mid = list(word[1:-1])\n",
        "      random.shuffle(mid)\n",
        "      word = word[0] + \"\".join(mid) + word[-1]\n",
        "    result.append(word)\n",
        "  return result\n",
        "\n",
        "text = \"I couldn’t believe that I could actually understand what I was reading : the phenomenal power of the human mind .\"\n",
        "print(\" \".join(make_typoglycemia(text)))"
      ],
      "metadata": {
        "colab": {
          "base_uri": "https://localhost:8080/"
        },
        "id": "u7h-eJIzKlX7",
        "outputId": "86aceffe-33bf-4f83-e82b-c087b86e752b"
      },
      "execution_count": 7,
      "outputs": [
        {
          "output_type": "stream",
          "name": "stdout",
          "text": [
            "I clun’odt bleeive that I cluod atlalcuy utnraesndd what I was raneidg : the penaehonml pewor of the human mind .\n"
          ]
        }
      ]
    }
  ]
}